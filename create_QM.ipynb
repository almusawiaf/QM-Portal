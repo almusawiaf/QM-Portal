{
 "cells": [
  {
   "cell_type": "code",
   "execution_count": 1,
   "metadata": {},
   "outputs": [],
   "source": [
    "import json\n",
    "def create_node(featureID, type, path, successValues, excludeValues, YesBranchID, NoBranchID):\n",
    "    empty_item = {\n",
    "        \"featureID\": featureID,\n",
    "        \"type\": type,\n",
    "        \"path\": path,\n",
    "        \"successValues\": successValues,\n",
    "        \"excludeValues\": excludeValues,\n",
    "        \"YesBranchID\": YesBranchID,\n",
    "        \"NoBranchID\": NoBranchID\n",
    "    }\n",
    "    return empty_item\n",
    "\n",
    "def create_tree(fileName, num_nodes):\n",
    "    TYPES = [\"InAList\", \"HasAValue\", ]\n",
    "    node = []\n",
    "    for i in range(num_nodes):\n",
    "        featureID = str(i+1)\n",
    "        type = TYPES[int(input('{i+1}th element: 0 for InAList\\n1 for HasAValue\\n'))]\n",
    "        path = input(f'Enter path of the {i+1}th element.')\n",
    "        n = int(input(\"How many success values for this node?\"))\n",
    "        successValues = [input(f'Enter {i}th success value.....') for i in range(n)]\n",
    "        n = int(input(\"How many fail values for this node?\"))\n",
    "        excludeValues= [input(f'Enter {i}th exclude value.....') for i in range(n)]\n",
    "        YesBranchID = input(\"Where to go on success?\")\n",
    "        NoBranchID  = input(\"Where to go on fail?\")\n",
    "        node.append(create_node(featureID, type, path, successValues, excludeValues, YesBranchID, NoBranchID))\n",
    "    node.append({\"featureID\": \"99\",\"type\": \"end\",\"result\": \"pass\"})\n",
    "    node.append({\"featureID\": \"100\",\"type\": \"end\",\"result\": \"fail\"})\n",
    "    node.append({\"featureID\": \"101\",\"type\": \"end\",\"result\": \"exclude\"})\n",
    "    \n",
    "    data = {\"startId\": \"1\", \"nodes\": node}\n",
    "    with open(f'Data/Portal dataset/QMs/{fileName}.json', \"w\") as json_file:\n",
    "        json.dump(data, json_file)\n",
    "\n"
   ]
  },
  {
   "cell_type": "code",
   "execution_count": 2,
   "metadata": {},
   "outputs": [
    {
     "ename": "ValueError",
     "evalue": "invalid literal for int() with base 10: ''",
     "output_type": "error",
     "traceback": [
      "\u001b[1;31m---------------------------------------------------------------------------\u001b[0m",
      "\u001b[1;31mValueError\u001b[0m                                Traceback (most recent call last)",
      "\u001b[1;32m~\\AppData\\Local\\Temp\\ipykernel_16096\\4113831353.py\u001b[0m in \u001b[0;36m<module>\u001b[1;34m\u001b[0m\n\u001b[0;32m      1\u001b[0m \u001b[0mfilename\u001b[0m \u001b[1;33m=\u001b[0m \u001b[0minput\u001b[0m\u001b[1;33m(\u001b[0m\u001b[1;34m'Enter file number...QM'\u001b[0m\u001b[1;33m)\u001b[0m\u001b[1;33m\u001b[0m\u001b[1;33m\u001b[0m\u001b[0m\n\u001b[1;32m----> 2\u001b[1;33m \u001b[0mn\u001b[0m \u001b[1;33m=\u001b[0m \u001b[0mint\u001b[0m\u001b[1;33m(\u001b[0m\u001b[0minput\u001b[0m\u001b[1;33m(\u001b[0m\u001b[1;34mf'Enter number of nodes in the QM{filename}'\u001b[0m\u001b[1;33m)\u001b[0m\u001b[1;33m)\u001b[0m\u001b[1;33m\u001b[0m\u001b[1;33m\u001b[0m\u001b[0m\n\u001b[0m\u001b[0;32m      3\u001b[0m \u001b[0mcreate_tree\u001b[0m\u001b[1;33m(\u001b[0m\u001b[1;36m3\u001b[0m\u001b[1;33m,\u001b[0m \u001b[1;36m8\u001b[0m\u001b[1;33m)\u001b[0m\u001b[1;33m\u001b[0m\u001b[1;33m\u001b[0m\u001b[0m\n",
      "\u001b[1;31mValueError\u001b[0m: invalid literal for int() with base 10: ''"
     ]
    }
   ],
   "source": [
    "filename = input('Enter file number...QM')\n",
    "n = int(input(f'Enter number of nodes in the QM{filename}'))\n",
    "create_tree(3, 8)"
   ]
  }
 ],
 "metadata": {
  "kernelspec": {
   "display_name": "base",
   "language": "python",
   "name": "python3"
  },
  "language_info": {
   "codemirror_mode": {
    "name": "ipython",
    "version": 3
   },
   "file_extension": ".py",
   "mimetype": "text/x-python",
   "name": "python",
   "nbconvert_exporter": "python",
   "pygments_lexer": "ipython3",
   "version": "3.9.13"
  },
  "orig_nbformat": 4
 },
 "nbformat": 4,
 "nbformat_minor": 2
}
