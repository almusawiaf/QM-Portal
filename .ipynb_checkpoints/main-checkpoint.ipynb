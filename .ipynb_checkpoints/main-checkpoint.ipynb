{
 "cells": [
  {
   "cell_type": "markdown",
   "id": "7b825473",
   "metadata": {},
   "source": [
    "# Quality Measure Portal"
   ]
  },
  {
   "cell_type": "markdown",
   "id": "63c603cb",
   "metadata": {},
   "source": [
    "## special nodes\n",
    " - Pass id = 99\n",
    " - Fail id = 100\n",
    " - Exclude = 101"
   ]
  },
  {
   "cell_type": "code",
   "execution_count": 1,
   "id": "872b9a82",
   "metadata": {},
   "outputs": [],
   "source": [
    "import json\n",
    "import numpy as np"
   ]
  },
  {
   "cell_type": "code",
   "execution_count": 2,
   "id": "d5fab411",
   "metadata": {},
   "outputs": [
    {
     "ename": "SyntaxError",
     "evalue": "invalid syntax (530723444.py, line 31)",
     "output_type": "error",
     "traceback": [
      "\u001b[0;36m  Cell \u001b[0;32mIn[2], line 31\u001b[0;36m\u001b[0m\n\u001b[0;31m    elif self.evalExpression(self.valuePath, patientData) in self.failValues::\u001b[0m\n\u001b[0m                                                                             ^\u001b[0m\n\u001b[0;31mSyntaxError\u001b[0m\u001b[0;31m:\u001b[0m invalid syntax\n"
     ]
    }
   ],
   "source": [
    "class QMBaseNode:\n",
    "\n",
    "    # Read node from json and initialize required data\n",
    "    # Include evaluation method, required paths, expected value(s)\n",
    "    # and traversal info\n",
    "    # Override with derived classes as needed.  Especially end states.\n",
    "\n",
    "    def __init__(self, tree, nodeInfo):\n",
    "        self.tree = tree\n",
    "        self.passNodeId = nodeInfo['passId']\n",
    "        self.failNodeId = nodeInfo['failId']\n",
    "\n",
    "        self.valuePath = nodeInfo['path']\n",
    "        self.successValues = nodeInfo['successValues']\n",
    "        self.failValues = nodeInfo['failValues']\n",
    "#         self.expectedValue = nodeInfo['expectedValue']\n",
    "\n",
    "\n",
    "    # Called by other nodes, or the tree, to evaluate the node and pass\n",
    "    # execution to the next node\n",
    "    \n",
    "#     def evaluate(self, patientData):\n",
    "#         if self.evalExpression(self.valuePath, patientData) == self.expectedValue:\n",
    "#             return self.tree.getNode(self.passNodeId).evaluate(patientData)\n",
    "#         else:\n",
    "#             return self.tree.getNode(self.failNodeId).evaluate(patientData)\n",
    "\n",
    "    def evaluate(self, patientData):\n",
    "        if self.evalExpression(self.valuePath, patientData) in self.successValues:\n",
    "            return self.tree.getNode(self.passNodeId).evaluate(patientData)\n",
    "        elif self.evalExpression(self.valuePath, patientData) in self.failValues:\n",
    "            return self.tree.getNode(self.failNodeId).evaluate(patientData)\n",
    "        else:\n",
    "            print('-----------------------Error-------------------------------')\n",
    "        \n",
    "        \n",
    "    def evalExpression(self, valuePath, patientData):\n",
    "        path = valuePath.split('.')\n",
    "        nested_value = patientData\n",
    "        \n",
    "        for feature in path:\n",
    "            if feature in nested_value:\n",
    "                nested_value = nested_value.get(feature)\n",
    "            else:\n",
    "                return None\n",
    "        return nested_value"
   ]
  },
  {
   "cell_type": "code",
   "execution_count": null,
   "id": "530ec184",
   "metadata": {},
   "outputs": [],
   "source": [
    "class QMEndNode(QMBaseNode):\n",
    "    def __init__(self, tree, nodeInfo):\n",
    "        self.tree = tree\n",
    "        self.valuePath = \"\"\n",
    "        self.endState = nodeInfo['result']\n",
    "\n",
    "    def evaluate(self, patientData=None):\n",
    "        return str(self.endState)"
   ]
  },
  {
   "cell_type": "code",
   "execution_count": null,
   "id": "36d06287",
   "metadata": {},
   "outputs": [],
   "source": [
    "class QMTree:\n",
    "    dt_json = None\n",
    "    def __init__(self):\n",
    "        self.nodes = dict()\n",
    "\n",
    "    def readTreeFile(self, path):\n",
    "        with open(f'{path}.json', 'r') as f:\n",
    "            self.tree = json.load(f)\n",
    "            \n",
    "            \n",
    "        for item in self.tree['nodes']:\n",
    "            if item['type']==\"base\":\n",
    "                self.nodes[item['featureID']] = QMBaseNode(self, item)\n",
    "            else:\n",
    "                self.nodes[item['featureID']] = QMEndNode(self, item)\n",
    "\n",
    "        \n",
    "    def addNode(self, node):\n",
    "        pass\n",
    "    \n",
    "    def removeNode(self, node):\n",
    "        pass\n",
    "    \n",
    "    def getNode(self, id):\n",
    "        try:\n",
    "            return self.nodes[id]\n",
    "        except:\n",
    "            print('Warning: no such node with id ' , id)\n",
    "            return None\n",
    "        \n",
    "    def evaluate(self, startId, patientData):\n",
    "        return self.getNode(startId).evaluate(patientData)\n",
    "\n",
    "         \n",
    "           \n",
    "    def get_next(self, next_node, dt_json):\n",
    "        '''search for the next item'''\n",
    "        print('Next node is : ', next_node)\n",
    "        for node_dict in dt_json:\n",
    "            if node_dict['featureID']==next_node:\n",
    "                return node_dict\n",
    "\n"
   ]
  },
  {
   "cell_type": "code",
   "execution_count": null,
   "id": "f7a40927",
   "metadata": {
    "scrolled": false
   },
   "outputs": [],
   "source": [
    "myTree = QMTree()\n",
    "myTree.readTreeFile(\"DT2\")\n",
    "\n",
    "\n",
    "with open('Data/data.json', 'r') as f:\n",
    "    dataset = json.load(f)\n",
    "\n",
    "\n",
    "# print([myTree.evaluate(\"1\", dataset[patient]) for patient in range(len(dataset))])\n",
    "print(myTree.evaluate(\"1\", dataset[0]) )\n"
   ]
  },
  {
   "cell_type": "markdown",
   "id": "739e9b82",
   "metadata": {},
   "source": [
    "# Types of features\n",
    "- Task1: extract unique paths"
   ]
  },
  {
   "cell_type": "code",
   "execution_count": null,
   "id": "cf7d9a3d",
   "metadata": {},
   "outputs": [],
   "source": [
    "# Showing all unique paths \n",
    "def extract_json_paths(json_data):\n",
    "    paths = []\n",
    "\n",
    "    def traverse_json(data, path=\"\"):\n",
    "        if isinstance(data, dict):\n",
    "            for key, value in data.items():\n",
    "                new_path = path + \"/\" + key if path else key\n",
    "                paths.append({\n",
    "                    'path': new_path,\n",
    "                    'type': type(value).__name__,\n",
    "                    'value': value\n",
    "                })\n",
    "                traverse_json(value, new_path)\n",
    "        elif isinstance(data, list):\n",
    "            for i, item in enumerate(data):\n",
    "                new_path = path + \"/{}\".format(i) if path else str(i)\n",
    "                paths.append({\n",
    "                    'path': new_path,\n",
    "                    'type': type(item).__name__,\n",
    "                    'value': item\n",
    "                })\n",
    "                traverse_json(item, new_path)\n",
    "\n",
    "    traverse_json(json_data)\n",
    "    return paths\n"
   ]
  },
  {
   "cell_type": "code",
   "execution_count": null,
   "id": "baa03eec",
   "metadata": {},
   "outputs": [],
   "source": [
    "dataset[0]"
   ]
  },
  {
   "cell_type": "code",
   "execution_count": null,
   "id": "6ec93fed",
   "metadata": {},
   "outputs": [],
   "source": [
    "paths = extract_json_paths(dataset[0])\n",
    "listPaths = []\n",
    "strPaths = []\n",
    "intPaths = []\n",
    "dictPaths = []\n",
    "\n",
    "for p in paths:\n",
    "    if p['type']=='list':\n",
    "        listPaths.append(p['path'].split('/')[-1])\n",
    "    elif p['type']=='dict':\n",
    "        dictPaths.append(p['path'].split('/')[-1])\n",
    "    elif p['type']=='str':\n",
    "        strPaths.append(p['path'].split('/')[-1])\n",
    "    elif p['type']=='int':\n",
    "        intPaths.append(p['path'].split('/')[-1])\n",
    "    \n",
    "listPaths = sorted(set(listPaths))\n",
    "dictPaths = sorted(set(dictPaths))\n",
    "intPaths = sorted(set(intPaths))\n",
    "strPaths = sorted(set(strPaths))\n",
    "print('list: \\n', listPaths)\n",
    "print('\\ndict: \\n', dictPaths)\n",
    "print('\\nint : \\n', intPaths)\n",
    "print('\\nstr : \\n', strPaths)\n"
   ]
  },
  {
   "cell_type": "code",
   "execution_count": null,
   "id": "d9f3756a",
   "metadata": {},
   "outputs": [],
   "source": [
    "newPaths = []\n",
    "for p in paths:\n",
    "    PP = p['path'].split('.')\n",
    "    newPaths.append(PP)\n",
    "\n",
    "    \n",
    "newPaths\n"
   ]
  },
  {
   "cell_type": "code",
   "execution_count": null,
   "id": "38553b17",
   "metadata": {},
   "outputs": [],
   "source": [
    "{p['path']: p['value'] for p in paths if p['type']=='str'}"
   ]
  }
 ],
 "metadata": {
  "kernelspec": {
   "display_name": "Python 3 (ipykernel)",
   "language": "python",
   "name": "python3"
  },
  "language_info": {
   "codemirror_mode": {
    "name": "ipython",
    "version": 3
   },
   "file_extension": ".py",
   "mimetype": "text/x-python",
   "name": "python",
   "nbconvert_exporter": "python",
   "pygments_lexer": "ipython3",
   "version": "3.9.12"
  }
 },
 "nbformat": 4,
 "nbformat_minor": 5
}
